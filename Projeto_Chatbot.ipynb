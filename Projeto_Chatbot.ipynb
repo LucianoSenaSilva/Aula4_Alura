{
  "nbformat": 4,
  "nbformat_minor": 0,
  "metadata": {
    "colab": {
      "provenance": [],
      "authorship_tag": "ABX9TyNccIS2cQOY4ZPW7Fk3NWIl",
      "include_colab_link": true
    },
    "kernelspec": {
      "name": "python3",
      "display_name": "Python 3"
    },
    "language_info": {
      "name": "python"
    }
  },
  "cells": [
    {
      "cell_type": "markdown",
      "metadata": {
        "id": "view-in-github",
        "colab_type": "text"
      },
      "source": [
        "<a href=\"https://colab.research.google.com/github/LucianoSenaSilva/Aula4_Alura/blob/main/Projeto_Chatbot.ipynb\" target=\"_parent\"><img src=\"https://colab.research.google.com/assets/colab-badge.svg\" alt=\"Open In Colab\"/></a>"
      ]
    },
    {
      "cell_type": "markdown",
      "source": [
        "instalando o SDK do google"
      ],
      "metadata": {
        "id": "4FhAnTuMP1ka"
      }
    },
    {
      "cell_type": "code",
      "execution_count": null,
      "metadata": {
        "id": "VXP8JkVsN0PG"
      },
      "outputs": [],
      "source": [
        "!pip install -q -U google-generativeai"
      ]
    },
    {
      "cell_type": "code",
      "source": [
        "import google.generativeai as genai\n",
        "from google.colab import userdata\n",
        "api_key = userdata.get('Secret_KEY')\n",
        "genai.configure(api_key=api_key)\n"
      ],
      "metadata": {
        "id": "ZBTe1FasQGer"
      },
      "execution_count": null,
      "outputs": []
    },
    {
      "cell_type": "markdown",
      "source": [
        "Listar os modelos disponíveis"
      ],
      "metadata": {
        "id": "MhArbCL0RUpl"
      }
    },
    {
      "cell_type": "code",
      "source": [
        "for m in genai.list_models():\n",
        "  if 'generateContent' in m.supported_generation_methods:\n",
        "    print(m.name)\n"
      ],
      "metadata": {
        "colab": {
          "base_uri": "https://localhost:8080/",
          "height": 139
        },
        "id": "oRpdtSRoQfu9",
        "outputId": "eef32a91-cadd-46df-b259-1d4fc395bdf4"
      },
      "execution_count": null,
      "outputs": [
        {
          "output_type": "stream",
          "name": "stdout",
          "text": [
            "models/gemini-1.0-pro\n",
            "models/gemini-1.0-pro-001\n",
            "models/gemini-1.0-pro-latest\n",
            "models/gemini-1.0-pro-vision-latest\n",
            "models/gemini-1.5-pro-latest\n",
            "models/gemini-pro\n",
            "models/gemini-pro-vision\n"
          ]
        }
      ]
    },
    {
      "cell_type": "markdown",
      "source": [
        "\n"
      ],
      "metadata": {
        "id": "Jy6ZYjHQRP3J"
      }
    },
    {
      "cell_type": "code",
      "source": [
        "generation_config = {\n",
        "    'candidate_count': 1,\n",
        "    'temperature':0.5,\n",
        "}"
      ],
      "metadata": {
        "id": "hRfoSXSOSm8W"
      },
      "execution_count": null,
      "outputs": []
    },
    {
      "cell_type": "code",
      "source": [
        "safety_setting = {\n",
        "    'HARASSMENT': 'BLOCK_NONE',\n",
        "    'HATE': 'BLOCK_NONE',\n",
        "    'SEXUAL': 'BLOCK_NONE'\n",
        "}"
      ],
      "metadata": {
        "id": "mLKbFEBUTOzr"
      },
      "execution_count": null,
      "outputs": []
    },
    {
      "cell_type": "markdown",
      "source": [
        "até aqui é configuração de modelo"
      ],
      "metadata": {
        "id": "PISAXoF7U5OO"
      }
    },
    {
      "cell_type": "code",
      "source": [
        "model = genai.GenerativeModel(model_name='gemini-1.0-pro', generation_config=generation_config, safety_settings=safety_setting)"
      ],
      "metadata": {
        "id": "3SujuFwcT8YW"
      },
      "execution_count": null,
      "outputs": []
    },
    {
      "cell_type": "code",
      "source": [
        "response = model.generate_content('vamos aprender conteudo de ia')\n",
        "print(response.text      )\n"
      ],
      "metadata": {
        "colab": {
          "base_uri": "https://localhost:8080/",
          "height": 714
        },
        "id": "UmA4BAeAU9Mz",
        "outputId": "b959032f-020c-4a78-b38f-107a5cde3592"
      },
      "execution_count": null,
      "outputs": [
        {
          "output_type": "stream",
          "name": "stdout",
          "text": [
            "**Introdução à Inteligência Artificial (IA)**\n",
            "\n",
            "**Definição:**\n",
            "* A IA é o campo da ciência da computação que se concentra no desenvolvimento de sistemas que podem executar tarefas que normalmente requerem inteligência humana, como aprendizado, resolução de problemas e tomada de decisão.\n",
            "\n",
            "**Tipos de IA:**\n",
            "\n",
            "* **IA Fraca (Aprendizado de Máquina):** Sistemas projetados para realizar tarefas específicas, como reconhecimento de imagem ou previsão do tempo.\n",
            "* **IA Forte (Inteligência Geral Artificial):** Sistemas que podem realizar uma ampla gama de tarefas cognitivas, como os humanos.\n",
            "* **IA Superinteligente:** Sistemas que excedem as capacidades cognitivas humanas.\n",
            "\n",
            "**Técnicas de IA:**\n",
            "\n",
            "* **Aprendizado de Máquina:** Algoritmos que permitem que os sistemas aprendam com os dados sem serem explicitamente programados.\n",
            "* **Aprendizado Profundo:** Um tipo de aprendizado de máquina que usa redes neurais artificiais para processar dados complexos.\n",
            "* **Processamento de Linguagem Natural (PNL):** Técnicas para permitir que os sistemas entendam e gerem a linguagem humana.\n",
            "* **Visão Computacional:** Algoritmos que permitem que os sistemas \"vejam\" e interpretem imagens e vídeos.\n",
            "\n",
            "**Aplicações da IA:**\n",
            "\n",
            "* **Automatização:** Automatizar tarefas repetitivas e demoradas.\n",
            "* **Assistentes Virtuais:** Fornecer suporte ao cliente e informações.\n",
            "* **Diagnóstico Médico:** Auxiliar os médicos no diagnóstico e tratamento de doenças.\n",
            "* **Veículos Autônomos:** Permitir que os carros se dirijam sozinhos.\n",
            "* **Tradução de Idiomas:** Traduzir textos e fala em tempo real.\n",
            "\n",
            "**Implicações Éticas e Sociais da IA:**\n",
            "\n",
            "* **Viés:** Os sistemas de IA podem ser tendenciosos se forem treinados com dados tendenciosos.\n",
            "* **Perda de Empregos:** A automação pode levar à perda de empregos em alguns setores.\n",
            "* **Privacidade:** Os sistemas de IA podem coletar e usar grandes quantidades de dados pessoais, levantando preocupações sobre privacidade.\n",
            "* **Responsabilidade:** Quem é responsável pelas decisões tomadas pelos sistemas de IA?\n",
            "\n",
            "**Tendências e Avanços Futuros:**\n",
            "\n",
            "* **IA Explicável:** Desenvolvimento de sistemas de IA que podem explicar suas decisões.\n",
            "* **IA Quântica:** Uso de computadores quânticos para acelerar algoritmos de IA.\n",
            "* **IA Generativa:** Criação de novos conteúdos, como imagens, música e textos.\n",
            "* **IA Ética:** Desenvolvimento de diretrizes éticas para o desenvolvimento e uso da IA.\n"
          ]
        }
      ]
    },
    {
      "cell_type": "code",
      "source": [
        "chat = model.start_chat(history=[])"
      ],
      "metadata": {
        "id": "_5saX9-cVbOy"
      },
      "execution_count": null,
      "outputs": []
    },
    {
      "cell_type": "code",
      "source": [
        "prompt = input('Esperando ...')\n",
        "while prompt != 'fim':\n",
        "  response = chat.send_message(prompt)\n",
        "  print('Resposta:', response.text, '/n')\n",
        "  prompt = input('esperando ...')\n",
        "\n"
      ],
      "metadata": {
        "colab": {
          "base_uri": "https://localhost:8080/",
          "height": 697
        },
        "id": "dipU5jsLVywV",
        "outputId": "8b3e2749-e194-4cc2-d82d-9346183ec190"
      },
      "execution_count": null,
      "outputs": [
        {
          "name": "stdout",
          "output_type": "stream",
          "text": [
            "Esperando ...o que precisa fazer para ser juiz\n",
            "Resposta: **Requisitos para ser Juiz no Brasil:**\n",
            "\n",
            "**Formação Acadêmica:**\n",
            "\n",
            "* Graduação em Direito por instituição reconhecida pelo Ministério da Educação (MEC).\n",
            "\n",
            "**Experiência Profissional:**\n",
            "\n",
            "* 5 (cinco) anos de efetivo exercício da advocacia, do Ministério Público, da magistratura ou da Defensoria Pública.\n",
            "\n",
            "**Requisitos Pessoais:**\n",
            "\n",
            "* Nacionalidade brasileira nata ou naturalizada há mais de 15 anos.\n",
            "* Idade mínima de 21 anos e máxima de 65 anos.\n",
            "* Pleno exercício dos direitos políticos e civis.\n",
            "* Conduta ilibada e reputação íntegras.\n",
            "* Saúde física e mental compatíveis com o exercício da função.\n",
            "\n",
            "**Concurso Público:**\n",
            "\n",
            "* Aprovação em concurso público de provas e títulos realizado pelo Tribunal de Justiça do estado onde se pretende atuar.\n",
            "* O concurso geralmente inclui:\n",
            "    * Provas escritas objetivas e discursivas sobre Direito Constitucional, Civil, Penal, Processual e outras disciplinas jurídicas.\n",
            "    * Prova prática de sentença.\n",
            "    * Prova oral.\n",
            "    * Avaliação de títulos acadêmicos e profissionais.\n",
            "\n",
            "**Nomeação e Posse:**\n",
            "\n",
            "* Após a aprovação no concurso, o candidato é nomeado pelo Governador do estado e empossado pelo Tribunal de Justiça.\n",
            "\n",
            "**Outras Informações:**\n",
            "\n",
            "* O concurso para Juiz é altamente concorrido.\n",
            "* A preparação para o concurso requer dedicação e estudo intensivo.\n",
            "* Os Juízes são responsáveis por julgar e decidir sobre processos judiciais, garantindo a aplicação da justiça e a proteção dos direitos dos cidadãos. /n\n",
            "esperando ...fim\n"
          ]
        }
      ]
    },
    {
      "cell_type": "code",
      "source": [],
      "metadata": {
        "id": "Yh2joETJWCSd"
      },
      "execution_count": null,
      "outputs": []
    }
  ]
}